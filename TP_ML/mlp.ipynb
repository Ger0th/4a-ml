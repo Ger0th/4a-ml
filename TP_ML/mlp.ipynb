{
  "cells": [
    {
      "cell_type": "markdown",
      "metadata": {},
      "source": [
        "# Introduction\n",
        "\n",
        "The objective of this lab is to dive into particular kind of neural network: the *Multi-Layer Perceptron* (MLP).\n",
        "\n",
        "To start, let us take the dataset from the previous lab (hydrodynamics of sailing boats) and use scikit-learn to train a MLP instead of our hand-made single perceptron.\n",
        "The code below is already complete and is meant to give you an idea of how to construct an MLP with scikit-learn. You can execute it, taking the time to understand the idea behind each cell."
      ]
    },
    {
      "cell_type": "code",
      "execution_count": 9,
      "metadata": {},
      "outputs": [],
      "source": [
        "# Importing the dataset\n",
        "import numpy as np\n",
        "dataset = np.genfromtxt(\"yacht_hydrodynamics.data\", delimiter='')\n",
        "X = dataset[:, :-1]\n",
        "Y = dataset[:, -1]"
      ]
    },
    {
      "cell_type": "code",
      "execution_count": 10,
      "metadata": {},
      "outputs": [],
      "source": [
        "# Preprocessing: scale input data \n",
        "from sklearn.preprocessing import StandardScaler\n",
        "sc = StandardScaler()\n",
        "X = sc.fit_transform(X)"
      ]
    },
    {
      "cell_type": "code",
      "execution_count": 11,
      "metadata": {},
      "outputs": [],
      "source": [
        "# Split dataset into training and test set\n",
        "from sklearn.model_selection import train_test_split\n",
        "x_train, x_test, y_train, y_test = train_test_split(X, Y,random_state=1, test_size = 0.20)"
      ]
    },
    {
      "cell_type": "code",
      "execution_count": 12,
      "metadata": {},
      "outputs": [
        {
          "data": {
            "text/plain": [
              "MLPRegressor(max_iter=3000, random_state=1)"
            ]
          },
          "execution_count": 12,
          "metadata": {},
          "output_type": "execute_result"
        }
      ],
      "source": [
        "# Define a multi-layer perceptron (MLP) network for regression\n",
        "from sklearn.neural_network import MLPRegressor\n",
        "mlp = MLPRegressor(max_iter=3000, random_state=1) # define the model, with default params\n",
        "mlp.fit(x_train, y_train) # train the MLP"
      ]
    },
    {
      "cell_type": "code",
      "execution_count": 13,
      "metadata": {},
      "outputs": [
        {
          "name": "stdout",
          "output_type": "stream",
          "text": [
            "Train score:  0.9940765369322633\n",
            "Test score:   0.9899773031580283\n"
          ]
        },
        {
          "data": {
            "text/plain": [
              "Text(0, 0.5, 'Loss')"
            ]
          },
          "execution_count": 13,
          "metadata": {},
          "output_type": "execute_result"
        },
        {
          "data": {
            "image/png": "[encoded data removed]",
            "text/plain": [
              "<Figure size 432x288 with 1 Axes>"
            ]
          },
          "metadata": {
            "needs_background": "light"
          },
          "output_type": "display_data"
        }
      ],
      "source": [
        "# Evaluate the model\n",
        "from matplotlib import pyplot as plt\n",
        "\n",
        "print('Train score: ', mlp.score(x_train, y_train))\n",
        "print('Test score:  ', mlp.score(x_test, y_test))\n",
        "plt.plot(mlp.loss_curve_)\n",
        "plt.xlabel(\"Iterations\")\n",
        "plt.ylabel(\"Loss\")\n"
      ]
    },
    {
      "cell_type": "code",
      "execution_count": 14,
      "metadata": {},
      "outputs": [
        {
          "data": {
            "text/plain": [
              "Text(0, 0.5, 'f(examples)')"
            ]
          },
          "execution_count": 14,
          "metadata": {},
          "output_type": "execute_result"
        },
        {
          "data": {
            "image/png": "[encoded data removed]",
            "text/plain": [
              "<Figure size 432x288 with 1 Axes>"
            ]
          },
          "metadata": {
            "needs_background": "light"
          },
          "output_type": "display_data"
        }
      ],
      "source": [
        "# Plot the results\n",
        "num_samples_to_plot = 20\n",
        "plt.plot(y_test[0:num_samples_to_plot], 'ro', label='y')\n",
        "yw = mlp.predict(x_test)\n",
        "plt.plot(yw[0:num_samples_to_plot], 'bx', label='$\\hat{y}$')\n",
        "plt.legend()\n",
        "plt.xlabel(\"Examples\")\n",
        "plt.ylabel(\"f(examples)\")"
      ]
    },
    {
      "cell_type": "markdown",
      "metadata": {},
      "source": [
        "### Analyzing the network\n",
        "\n",
        "Many details of the network are currently hidden as default parameters.\n",
        "\n",
        "Using the [documentation of the MLPRegressor](https://scikit-learn.org/stable/modules/generated/sklearn.neural_network.MLPRegressor.html), answer the following questions.\n",
        "\n",
        "- What is the structure of the network?\n",
        "\n",
        "> The structure is a multi-level neural network\n",
        "\n",
        "- What it is the algorithm used for training? Is there algorithm available that we mentioned during the courses?\n",
        "\n",
        "> The `adam` algorithm is used by default. The `sgd` algorithm mentioned during the course is also available.\n",
        "\n",
        "- How does the training algorithm decides to stop the training?\n",
        "\n",
        "> There is a `max_iter` parameter set to 200 by default and an `early_stopping` parameter set to False by default.<br>\n",
        "> The algorithm stops when the `max_iter` is reached or when the validation score is not improving (`early_stopping`)."
      ]
    },
    {
      "cell_type": "markdown",
      "metadata": {},
      "source": []
    },
    {
      "cell_type": "markdown",
      "metadata": {},
      "source": [
        "# Onto a more challenging dataset: house prices\n",
        "\n",
        "For the rest of this lab, we will use the (more challenging) [California Housing Prices dataset](https://www.kaggle.com/datasets/camnugent/california-housing-prices)."
      ]
    },
    {
      "cell_type": "code",
      "execution_count": 15,
      "metadata": {},
      "outputs": [],
      "source": [
        "# clean all previously defined variables for the sailing boats\n",
        "%reset -f"
      ]
    },
    {
      "cell_type": "code",
      "execution_count": 16,
      "metadata": {},
      "outputs": [
        {
          "data": {
            "text/html": [
              "<div>\n",
              "<style scoped>\n",
              "    .dataframe tbody tr th:only-of-type {\n",
              "        vertical-align: middle;\n",
              "    }\n",
              "\n",
              "    .dataframe tbody tr th {\n",
              "        vertical-align: top;\n",
              "    }\n",
              "\n",
              "    .dataframe thead th {\n",
              "        text-align: right;\n",
              "    }\n",
              "</style>\n",
              "<table border=\"1\" class=\"dataframe\">\n",
              "  <thead>\n",
              "    <tr style=\"text-align: right;\">\n",
              "      <th></th>\n",
              "      <th>MedInc</th>\n",
              "      <th>HouseAge</th>\n",
              "      <th>AveRooms</th>\n",
              "      <th>AveBedrms</th>\n",
              "      <th>Population</th>\n",
              "      <th>AveOccup</th>\n",
              "      <th>Latitude</th>\n",
              "      <th>Longitude</th>\n",
              "    </tr>\n",
              "  </thead>\n",
              "  <tbody>\n",
              "    <tr>\n",
              "      <th>0</th>\n",
              "      <td>8.3252</td>\n",
              "      <td>41.0</td>\n",
              "      <td>6.984127</td>\n",
              "      <td>1.023810</td>\n",
              "      <td>322.0</td>\n",
              "      <td>2.555556</td>\n",
              "      <td>37.88</td>\n",
              "      <td>-122.23</td>\n",
              "    </tr>\n",
              "    <tr>\n",
              "      <th>1</th>\n",
              "      <td>8.3014</td>\n",
              "      <td>21.0</td>\n",
              "      <td>6.238137</td>\n",
              "      <td>0.971880</td>\n",
              "      <td>2401.0</td>\n",
              "      <td>2.109842</td>\n",
              "      <td>37.86</td>\n",
              "      <td>-122.22</td>\n",
              "    </tr>\n",
              "    <tr>\n",
              "      <th>2</th>\n",
              "      <td>7.2574</td>\n",
              "      <td>52.0</td>\n",
              "      <td>8.288136</td>\n",
              "      <td>1.073446</td>\n",
              "      <td>496.0</td>\n",
              "      <td>2.802260</td>\n",
              "      <td>37.85</td>\n",
              "      <td>-122.24</td>\n",
              "    </tr>\n",
              "    <tr>\n",
              "      <th>3</th>\n",
              "      <td>5.6431</td>\n",
              "      <td>52.0</td>\n",
              "      <td>5.817352</td>\n",
              "      <td>1.073059</td>\n",
              "      <td>558.0</td>\n",
              "      <td>2.547945</td>\n",
              "      <td>37.85</td>\n",
              "      <td>-122.25</td>\n",
              "    </tr>\n",
              "    <tr>\n",
              "      <th>4</th>\n",
              "      <td>3.8462</td>\n",
              "      <td>52.0</td>\n",
              "      <td>6.281853</td>\n",
              "      <td>1.081081</td>\n",
              "      <td>565.0</td>\n",
              "      <td>2.181467</td>\n",
              "      <td>37.85</td>\n",
              "      <td>-122.25</td>\n",
              "    </tr>\n",
              "    <tr>\n",
              "      <th>5</th>\n",
              "      <td>4.0368</td>\n",
              "      <td>52.0</td>\n",
              "      <td>4.761658</td>\n",
              "      <td>1.103627</td>\n",
              "      <td>413.0</td>\n",
              "      <td>2.139896</td>\n",
              "      <td>37.85</td>\n",
              "      <td>-122.25</td>\n",
              "    </tr>\n",
              "    <tr>\n",
              "      <th>6</th>\n",
              "      <td>3.6591</td>\n",
              "      <td>52.0</td>\n",
              "      <td>4.931907</td>\n",
              "      <td>0.951362</td>\n",
              "      <td>1094.0</td>\n",
              "      <td>2.128405</td>\n",
              "      <td>37.84</td>\n",
              "      <td>-122.25</td>\n",
              "    </tr>\n",
              "    <tr>\n",
              "      <th>7</th>\n",
              "      <td>3.1200</td>\n",
              "      <td>52.0</td>\n",
              "      <td>4.797527</td>\n",
              "      <td>1.061824</td>\n",
              "      <td>1157.0</td>\n",
              "      <td>1.788253</td>\n",
              "      <td>37.84</td>\n",
              "      <td>-122.25</td>\n",
              "    </tr>\n",
              "    <tr>\n",
              "      <th>8</th>\n",
              "      <td>2.0804</td>\n",
              "      <td>42.0</td>\n",
              "      <td>4.294118</td>\n",
              "      <td>1.117647</td>\n",
              "      <td>1206.0</td>\n",
              "      <td>2.026891</td>\n",
              "      <td>37.84</td>\n",
              "      <td>-122.26</td>\n",
              "    </tr>\n",
              "    <tr>\n",
              "      <th>9</th>\n",
              "      <td>3.6912</td>\n",
              "      <td>52.0</td>\n",
              "      <td>4.970588</td>\n",
              "      <td>0.990196</td>\n",
              "      <td>1551.0</td>\n",
              "      <td>2.172269</td>\n",
              "      <td>37.84</td>\n",
              "      <td>-122.25</td>\n",
              "    </tr>\n",
              "  </tbody>\n",
              "</table>\n",
              "</div>"
            ],
            "text/plain": [
              "   MedInc  HouseAge  AveRooms  AveBedrms  Population  AveOccup  Latitude  \\\n",
              "0  8.3252      41.0  6.984127   1.023810       322.0  2.555556     37.88   \n",
              "1  8.3014      21.0  6.238137   0.971880      2401.0  2.109842     37.86   \n",
              "2  7.2574      52.0  8.288136   1.073446       496.0  2.802260     37.85   \n",
              "3  5.6431      52.0  5.817352   1.073059       558.0  2.547945     37.85   \n",
              "4  3.8462      52.0  6.281853   1.081081       565.0  2.181467     37.85   \n",
              "5  4.0368      52.0  4.761658   1.103627       413.0  2.139896     37.85   \n",
              "6  3.6591      52.0  4.931907   0.951362      1094.0  2.128405     37.84   \n",
              "7  3.1200      52.0  4.797527   1.061824      1157.0  1.788253     37.84   \n",
              "8  2.0804      42.0  4.294118   1.117647      1206.0  2.026891     37.84   \n",
              "9  3.6912      52.0  4.970588   0.990196      1551.0  2.172269     37.84   \n",
              "\n",
              "   Longitude  \n",
              "0    -122.23  \n",
              "1    -122.22  \n",
              "2    -122.24  \n",
              "3    -122.25  \n",
              "4    -122.25  \n",
              "5    -122.25  \n",
              "6    -122.25  \n",
              "7    -122.25  \n",
              "8    -122.26  \n",
              "9    -122.25  "
            ]
          },
          "execution_count": 16,
          "metadata": {},
          "output_type": "execute_result"
        }
      ],
      "source": [
        "\"\"\"Import the required modules\"\"\"\n",
        "from sklearn.model_selection import train_test_split\n",
        "from sklearn.datasets import fetch_california_housing\n",
        "import pandas as pd\n",
        "\n",
        "num_samples = 2000 # only use the first N samples to limit training time\n",
        "\n",
        "cal_housing = fetch_california_housing()\n",
        "X = pd.DataFrame(cal_housing.data,columns=cal_housing.feature_names)[:num_samples]\n",
        "Y = cal_housing.target[:num_samples]\n",
        "\n",
        "X.head(10) # print the first 10 values\n"
      ]
    },
    {
      "cell_type": "markdown",
      "metadata": {},
      "source": [
        "Note that each row of the dataset represents a **group of houses** (one district). The `target` variable denotes the average house value in units of 100.000 USD. Median Income is per 10.000 USD."
      ]
    },
    {
      "cell_type": "markdown",
      "metadata": {},
      "source": [
        "### Extracting a subpart of the dataset for testing\n",
        "\n",
        "- Split the dataset between a training set (75%) and a test set (25%)\n",
        "\n",
        "Please use the conventional names `X_train`, `X_test`, `y_train` and `y_test`."
      ]
    },
    {
      "cell_type": "code",
      "execution_count": 17,
      "metadata": {},
      "outputs": [],
      "source": [
        "x_train, x_test, y_train, y_test = train_test_split(X, Y,random_state=1, test_size = 0.25)"
      ]
    },
    {
      "cell_type": "markdown",
      "metadata": {},
      "source": [
        "### Scaling the input data\n",
        "\n",
        "\n",
        "A step of **scaling** of the data is often useful to ensure that all input data centered on 0 and with a fixed variance.\n",
        "\n",
        "Standardization of a dataset is a common requirement for many machine learning estimators: they might behave badly if the individual features do not more or less look like standard normally distributed data (e.g. Gaussian with 0 mean and unit variance). The function `StandardScaler` from `sklearn.preprocessing` computes the standard score of a sample as:\n",
        "\n",
        "```\n",
        "z = (x - u) / s\n",
        "```\n",
        "\n",
        "where `u` is the mean of the training samples, and `s` is the standard deviation of the training samples.\n",
        "\n",
        "Centering and scaling happen independently on each feature by computing the relevant statistics on the samples in the training set. Mean and standard deviation are then stored to be used on later data using transform.\n",
        "\n",
        " - Apply the standard scaler to both the training dataset (`X_train`) and the test dataset (`X_test`).\n",
        " - Make sure that **exactly the same transformation** is applied to both datasets.\n",
        "\n",
        "[Documentation of standard scaler in scikit learn](https://scikit-learn.org/stable/modules/generated/sklearn.preprocessing.StandardScaler.html)\n",
        "\n"
      ]
    },
    {
      "cell_type": "code",
      "execution_count": 18,
      "metadata": {},
      "outputs": [],
      "source": [
        "from sklearn.preprocessing import StandardScaler\n",
        "sc = StandardScaler()\n",
        "x_train = sc.fit_transform(x_train)\n",
        "x_test = sc.fit_transform(x_test)"
      ]
    },
    {
      "cell_type": "markdown",
      "metadata": {},
      "source": [
        "## Overfitting\n",
        "\n",
        "In this part, we are only interested in maximizing the **train score**, i.e., having the network memorize the training examples as well as possible.\n",
        "\n",
        "- Propose a parameterization of the network (shape and learning parameters) that will maximize the train score (without considering the test score).\n",
        "\n",
        "While doing this, you should (1) remain within two minutes of training time, and (2) obtain a score that is greater than 0.90.\n",
        "\n",
        "- Is the **test** score substantially smaller than the **train** score (indicator of overfitting) ?\n",
        "- Explain how the parameters you chose allow the learned model to overfit."
      ]
    },
    {
      "cell_type": "code",
      "execution_count": 19,
      "metadata": {},
      "outputs": [
        {
          "data": {
            "text/plain": [
              "MLPRegressor(hidden_layer_sizes=(100, 75, 50, 25, 5), max_iter=4000,\n",
              "             random_state=1)"
            ]
          },
          "execution_count": 19,
          "metadata": {},
          "output_type": "execute_result"
        }
      ],
      "source": [
        "from sklearn.neural_network import MLPRegressor\n",
        "mlp = MLPRegressor(hidden_layer_sizes=(100,75,50,25,5), max_iter=4000, random_state=1)\n",
        "mlp.fit(x_train, y_train)"
      ]
    },
    {
      "cell_type": "code",
      "execution_count": 20,
      "metadata": {},
      "outputs": [
        {
          "name": "stdout",
          "output_type": "stream",
          "text": [
            "Train score:  0.9382568610980101\n",
            "Test score:   0.3463610902865314\n"
          ]
        },
        {
          "data": {
            "text/plain": [
              "Text(0, 0.5, 'Loss')"
            ]
          },
          "execution_count": 20,
          "metadata": {},
          "output_type": "execute_result"
        },
        {
          "data": {
            "image/png": "[encoded data removed]",
            "text/plain": [
              "<Figure size 432x288 with 1 Axes>"
            ]
          },
          "metadata": {
            "needs_background": "light"
          },
          "output_type": "display_data"
        }
      ],
      "source": [
        "# Evaluate the model\n",
        "from matplotlib import pyplot as plt\n",
        "\n",
        "print('Train score: ', mlp.score(x_train, y_train))\n",
        "print('Test score:  ', mlp.score(x_test, y_test))\n",
        "plt.plot(mlp.loss_curve_)\n",
        "plt.xlabel(\"Iterations\")\n",
        "plt.ylabel(\"Loss\")"
      ]
    },
    {
      "cell_type": "markdown",
      "metadata": {},
      "source": [
        "## Hyperparameter tuning\n",
        "\n",
        "In this section, we are now interested in maximizing the ability of the network to predict the value of unseen examples, i.e., maximizing the **test** score.\n",
        "You should experiment with the possible parameters of the network in order to obtain a good test score, ideally with a small learning time.\n",
        "\n",
        "Parameters to vary:\n",
        "\n",
        "- number and size of the hidden layers\n",
        "- activation function\n",
        "- stopping conditions\n",
        "- maximum number of iterations\n",
        "- initial learning rate value\n",
        "\n",
        "Results to present for the tested configurations:\n",
        "\n",
        "- Train/test score\n",
        "- training time\n",
        "\n",
        "\n",
        "Present in a table the various parameters tested and the associated results. You can find in the last cell of the notebook a code snippet that will allow you to plot tables from python structure.\n",
        "Be methodical in the way your run your experiments and collect data. For each run, you should record the parameters and results into an external data structure.\n",
        "\n",
        "(Note that, while we encourage you to explore the solution space manually, there are existing methods in scikit-learn and other learning framework to automate this step as well, e.g., [GridSearchCV](https://scikit-learn.org/stable/modules/generated/sklearn.model_selection.GridSearchCV.html))"
      ]
    },
    {
      "cell_type": "code",
      "execution_count": 21,
      "metadata": {},
      "outputs": [],
      "source": [
        "import pandas as pd\n",
        "import numpy as np\n",
        "data = []"
      ]
    },
    {
      "cell_type": "code",
      "execution_count": 22,
      "metadata": {},
      "outputs": [],
      "source": [
        "import time\n",
        "mlp = MLPRegressor(hidden_layer_sizes=(100,75,50,25,5), max_iter=500, random_state=1, early_stopping=False)\n",
        "start = time.time()\n",
        "mlp.fit(x_train, y_train)\n",
        "stop = time.time()\n",
        "relu_test_score = mlp.score(x_test, y_test)\n",
        "relu_train_score = mlp.score(x_train, y_train)\n",
        "relu_time = stop - start\n",
        "data.append({'activation': 'relu', 'max_iter': '500', 'hidden_layers': (100,75,50,25,5), 'learning_rate_init': 0.001, 'early_stopping': False, 'train_score': relu_train_score, 'test_score': relu_test_score, 'training_time(s)': relu_time})"
      ]
    },
    {
      "cell_type": "code",
      "execution_count": 23,
      "metadata": {},
      "outputs": [],
      "source": [
        "mlp = MLPRegressor(activation='tanh', hidden_layer_sizes=(100,75,50,25,5), max_iter=500, random_state=1, early_stopping=False)\n",
        "start = time.time()\n",
        "mlp.fit(x_train, y_train)\n",
        "stop = time.time()\n",
        "tahn_test_score = mlp.score(x_test, y_test)\n",
        "tahn_train_score = mlp.score(x_train, y_train)\n",
        "tahn_time = stop - start\n",
        "data.append({'activation': 'tanh', 'max_iter': '500', 'hidden_layers': (100,75,50,25,5), 'learning_rate_init': 0.001, 'early_stopping': False, 'train_score': tahn_train_score, 'test_score': tahn_test_score, 'training_time(s)': tahn_time})"
      ]
    },
    {
      "cell_type": "code",
      "execution_count": 24,
      "metadata": {},
      "outputs": [],
      "source": [
        "mlp = MLPRegressor(activation='logistic', hidden_layer_sizes=(100,75,50,25,5), max_iter=500, random_state=1, early_stopping=False)\n",
        "start = time.time()\n",
        "mlp.fit(x_train, y_train)\n",
        "stop = time.time()\n",
        "logistic_test_score = mlp.score(x_test, y_test)\n",
        "logistic_train_score = mlp.score(x_train, y_train)\n",
        "logistic_time = stop - start\n",
        "data.append({'activation': 'logistic', 'max_iter': '500', 'hidden_layers': (100,75,50,25,5), 'learning_rate_init': 0.001, 'early_stopping': False, 'train_score': logistic_train_score, 'test_score': logistic_test_score, 'training_time(s)': logistic_time})"
      ]
    },
    {
      "cell_type": "code",
      "execution_count": 25,
      "metadata": {},
      "outputs": [],
      "source": [
        "mlp = MLPRegressor(hidden_layer_sizes=(100,75,50,25,10,5), max_iter=500, random_state=1, early_stopping=False)\n",
        "start = time.time()\n",
        "mlp.fit(x_train, y_train)\n",
        "stop = time.time()\n",
        "relu_test_score_2 = mlp.score(x_test, y_test)\n",
        "relu_train_score_2 = mlp.score(x_train, y_train)\n",
        "relu_time_2 = stop - start\n",
        "data.append({'activation': 'relu', 'max_iter': '500', 'hidden_layers': (100,75,50,25,10,5), 'learning_rate_init': 0.001, 'early_stopping': False, 'train_score': relu_train_score_2, 'test_score': relu_test_score_2, 'training_time(s)': relu_time_2})"
      ]
    },
    {
      "cell_type": "code",
      "execution_count": 26,
      "metadata": {},
      "outputs": [],
      "source": [
        "mlp = MLPRegressor(activation='tanh', hidden_layer_sizes=(100,75,50,25,10,5), max_iter=500, random_state=1, early_stopping=False)\n",
        "start = time.time()\n",
        "mlp.fit(x_train, y_train)\n",
        "stop = time.time()\n",
        "tahn_test_score = mlp.score(x_test, y_test)\n",
        "tahn_train_score = mlp.score(x_train, y_train)\n",
        "tahn_time = stop - start\n",
        "data.append({'activation': 'tanh', 'max_iter': '500', 'hidden_layers': (100,75,50,25,10,5), 'learning_rate_init': 0.001, 'early_stopping': False, 'train_score': tahn_train_score, 'test_score': tahn_test_score, 'training_time(s)': tahn_time})"
      ]
    },
    {
      "cell_type": "code",
      "execution_count": 27,
      "metadata": {},
      "outputs": [],
      "source": [
        "mlp = MLPRegressor(activation='tanh', hidden_layer_sizes=(100,75,50,25,5), max_iter=500, random_state=1, early_stopping=True)\n",
        "start = time.time()\n",
        "mlp.fit(x_train, y_train)\n",
        "stop = time.time()\n",
        "tahn_test_score = mlp.score(x_test, y_test)\n",
        "tahn_train_score = mlp.score(x_train, y_train)\n",
        "tahn_time = stop - start\n",
        "data.append({'activation': 'tanh', 'max_iter': '500', 'hidden_layers': (100,75,50,25,5), 'learning_rate_init': 0.001, 'early_stopping': True, 'train_score': tahn_train_score, 'test_score': tahn_test_score, 'training_time(s)': tahn_time})"
      ]
    },
    {
      "cell_type": "code",
      "execution_count": 28,
      "metadata": {},
      "outputs": [],
      "source": [
        "mlp = MLPRegressor(activation='tanh', hidden_layer_sizes=(100,75,50,25,5), max_iter=2500, random_state=1, early_stopping=True)\n",
        "start = time.time()\n",
        "mlp.fit(x_train, y_train)\n",
        "stop = time.time()\n",
        "tahn_test_score = mlp.score(x_test, y_test)\n",
        "tahn_train_score = mlp.score(x_train, y_train)\n",
        "tahn_time = stop - start\n",
        "data.append({'activation': 'tanh', 'max_iter': '2500', 'hidden_layers': (100,75,50,25,5), 'learning_rate_init': 0.001, 'early_stopping': True, 'train_score': tahn_train_score, 'test_score': tahn_test_score, 'training_time(s)': tahn_time})"
      ]
    },
    {
      "cell_type": "code",
      "execution_count": 29,
      "metadata": {},
      "outputs": [
        {
          "data": {
            "text/html": [
              "<div>\n",
              "<style scoped>\n",
              "    .dataframe tbody tr th:only-of-type {\n",
              "        vertical-align: middle;\n",
              "    }\n",
              "\n",
              "    .dataframe tbody tr th {\n",
              "        vertical-align: top;\n",
              "    }\n",
              "\n",
              "    .dataframe thead th {\n",
              "        text-align: right;\n",
              "    }\n",
              "</style>\n",
              "<table border=\"1\" class=\"dataframe\">\n",
              "  <thead>\n",
              "    <tr style=\"text-align: right;\">\n",
              "      <th></th>\n",
              "      <th>activation</th>\n",
              "      <th>max_iter</th>\n",
              "      <th>hidden_layers</th>\n",
              "      <th>learning_rate_init</th>\n",
              "      <th>early_stopping</th>\n",
              "      <th>train_score</th>\n",
              "      <th>test_score</th>\n",
              "      <th>training_time(s)</th>\n",
              "    </tr>\n",
              "  </thead>\n",
              "  <tbody>\n",
              "    <tr>\n",
              "      <th>5</th>\n",
              "      <td>tanh</td>\n",
              "      <td>500</td>\n",
              "      <td>(100, 75, 50, 25, 5)</td>\n",
              "      <td>0.001</td>\n",
              "      <td>True</td>\n",
              "      <td>0.823278</td>\n",
              "      <td>0.693592</td>\n",
              "      <td>1.339898</td>\n",
              "    </tr>\n",
              "    <tr>\n",
              "      <th>6</th>\n",
              "      <td>tanh</td>\n",
              "      <td>2500</td>\n",
              "      <td>(100, 75, 50, 25, 5)</td>\n",
              "      <td>0.001</td>\n",
              "      <td>True</td>\n",
              "      <td>0.823278</td>\n",
              "      <td>0.693592</td>\n",
              "      <td>1.328503</td>\n",
              "    </tr>\n",
              "    <tr>\n",
              "      <th>1</th>\n",
              "      <td>tanh</td>\n",
              "      <td>500</td>\n",
              "      <td>(100, 75, 50, 25, 5)</td>\n",
              "      <td>0.001</td>\n",
              "      <td>False</td>\n",
              "      <td>0.903917</td>\n",
              "      <td>0.582906</td>\n",
              "      <td>3.793498</td>\n",
              "    </tr>\n",
              "    <tr>\n",
              "      <th>4</th>\n",
              "      <td>tanh</td>\n",
              "      <td>500</td>\n",
              "      <td>(100, 75, 50, 25, 10, 5)</td>\n",
              "      <td>0.001</td>\n",
              "      <td>False</td>\n",
              "      <td>0.918759</td>\n",
              "      <td>0.582211</td>\n",
              "      <td>5.649569</td>\n",
              "    </tr>\n",
              "    <tr>\n",
              "      <th>3</th>\n",
              "      <td>relu</td>\n",
              "      <td>500</td>\n",
              "      <td>(100, 75, 50, 25, 10, 5)</td>\n",
              "      <td>0.001</td>\n",
              "      <td>False</td>\n",
              "      <td>0.964044</td>\n",
              "      <td>0.363636</td>\n",
              "      <td>4.561090</td>\n",
              "    </tr>\n",
              "    <tr>\n",
              "      <th>0</th>\n",
              "      <td>relu</td>\n",
              "      <td>500</td>\n",
              "      <td>(100, 75, 50, 25, 5)</td>\n",
              "      <td>0.001</td>\n",
              "      <td>False</td>\n",
              "      <td>0.938257</td>\n",
              "      <td>0.346361</td>\n",
              "      <td>3.408866</td>\n",
              "    </tr>\n",
              "    <tr>\n",
              "      <th>2</th>\n",
              "      <td>logistic</td>\n",
              "      <td>500</td>\n",
              "      <td>(100, 75, 50, 25, 5)</td>\n",
              "      <td>0.001</td>\n",
              "      <td>False</td>\n",
              "      <td>-0.000118</td>\n",
              "      <td>-0.010350</td>\n",
              "      <td>1.088763</td>\n",
              "    </tr>\n",
              "  </tbody>\n",
              "</table>\n",
              "</div>"
            ],
            "text/plain": [
              "  activation max_iter             hidden_layers  learning_rate_init  \\\n",
              "5       tanh      500      (100, 75, 50, 25, 5)               0.001   \n",
              "6       tanh     2500      (100, 75, 50, 25, 5)               0.001   \n",
              "1       tanh      500      (100, 75, 50, 25, 5)               0.001   \n",
              "4       tanh      500  (100, 75, 50, 25, 10, 5)               0.001   \n",
              "3       relu      500  (100, 75, 50, 25, 10, 5)               0.001   \n",
              "0       relu      500      (100, 75, 50, 25, 5)               0.001   \n",
              "2   logistic      500      (100, 75, 50, 25, 5)               0.001   \n",
              "\n",
              "   early_stopping  train_score  test_score  training_time(s)  \n",
              "5            True     0.823278    0.693592          1.339898  \n",
              "6            True     0.823278    0.693592          1.328503  \n",
              "1           False     0.903917    0.582906          3.793498  \n",
              "4           False     0.918759    0.582211          5.649569  \n",
              "3           False     0.964044    0.363636          4.561090  \n",
              "0           False     0.938257    0.346361          3.408866  \n",
              "2           False    -0.000118   -0.010350          1.088763  "
            ]
          },
          "execution_count": 29,
          "metadata": {},
          "output_type": "execute_result"
        }
      ],
      "source": [
        "# Code snippet to display a nice table in jupyter notebooks  (remove from report)\n",
        "table = pd.DataFrame.from_dict(data)\n",
        "table = table.replace(np.nan, '-')\n",
        "table = table.sort_values(by='test_score', ascending=False)\n",
        "table"
      ]
    },
    {
      "cell_type": "markdown",
      "metadata": {},
      "source": [
        "## Evaluation\n",
        "\n",
        "- From your experiments, what seems to be the best model (i.e. set of parameters) for predicting the value of a house?\n",
        "\n",
        "Unless you used cross-validation, you have probably used the \"test\" set to select the best model among the ones you experimented with.\n",
        "Since your model is the one that worked best on the \"test\" set, your selection is *biased*.\n",
        "\n",
        "In all rigor the original dataset should be split in three:\n",
        "\n",
        "- the **training set**, on which each model is trained\n",
        "- the **validation set**, that is used to pick the best parameters of the model \n",
        "- the **test set**, on which we evaluate the final model\n",
        "\n",
        "\n",
        "Evaluate the score of your algorithm on a test set that was not used for training nor for model selection.\n",
        "\n"
      ]
    },
    {
      "cell_type": "code",
      "execution_count": 30,
      "metadata": {},
      "outputs": [],
      "source": [
        "# TODO"
      ]
    },
    {
      "cell_type": "code",
      "execution_count": null,
      "metadata": {},
      "outputs": [],
      "source": []
    }
  ],
  "metadata": {
    "interpreter": {
      "hash": "c5cbd4c4f3886936fb471875f31e5a5cdeed0bc7c3526899beb43a7f908cf096"
    },
    "kernelspec": {
      "display_name": "Python 3.9.5 64-bit",
      "language": "python",
      "name": "python3"
    },
    "language_info": {
      "codemirror_mode": {
        "name": "ipython",
        "version": 3
      },
      "file_extension": ".py",
      "mimetype": "text/x-python",
      "name": "python",
      "nbconvert_exporter": "python",
      "pygments_lexer": "ipython3",
      "version": "3.9.5"
    }
  },
  "nbformat": 4,
  "nbformat_minor": 4
}
