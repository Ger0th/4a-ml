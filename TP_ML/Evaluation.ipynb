{
 "cells": [
  {
   "cell_type": "markdown",
   "metadata": {},
   "source": [
    "# Lab 1 Evaluation"
   ]
  },
  {
   "cell_type": "markdown",
   "metadata": {},
   "source": [
    "Group B1\n",
    "Aubut Guillaume\n",
    "Pastor Emmanuel"
   ]
  },
  {
   "cell_type": "markdown",
   "metadata": {},
   "source": [
    "In the following, we consider the  (binarized) Compas dataset that we studied in the Lab"
   ]
  },
  {
   "cell_type": "markdown",
   "metadata": {},
   "source": [
    "**A decision tree configuration is a set of parameters that one can use to build decision trees. Propose 6 configurations that are likely to provide different topologies and caracteristics**"
   ]
  },
  {
   "cell_type": "markdown",
   "metadata": {},
   "source": [
    "* configuration 1: splitter=\"best\", max_depth=2, min_samples_leaf=50\n",
    "* configuration 2: splitter=\"best\", max_depth=4, min_samples_leaf=50\n",
    "* configuration 3: splitter=\"random\", max_depth=4, min_samples_leaf=100\n",
    "* configuration 4: splitter=\"random\", max_depth=2, min_samples_leaf=16\n",
    "* configuration 5: splitter=\"random\", max_depth=4, min_samples_leaf=4\n",
    "* configuration 6: splitter=\"best\", max_depth=8, min_samples_leaf=4"
   ]
  },
  {
   "cell_type": "markdown",
   "metadata": {},
   "source": [
    "**Train a decision tree for each of the previous configurations on the full dataset**"
   ]
  },
  {
   "cell_type": "code",
   "execution_count": 2,
   "metadata": {},
   "outputs": [],
   "source": [
    "from sklearn import tree, model_selection, metrics\n",
    "from sklearn.metrics import ConfusionMatrixDisplay\n",
    "from matplotlib import pyplot as plt\n",
    "import csv\n",
    "import numpy as np\n",
    "from utils import load_from_csv\n",
    "import  pandas as pd"
   ]
  },
  {
   "cell_type": "code",
   "execution_count": 3,
   "metadata": {},
   "outputs": [],
   "source": [
    "train_examples, train_labels, features, prediction = load_from_csv(\"./compass.csv\")"
   ]
  },
  {
   "cell_type": "code",
   "execution_count": null,
   "metadata": {},
   "outputs": [],
   "source": [
    "params = [[\"best\", 2, 50],\n",
    "          [\"best\", 4, 50],\n",
    "          [\"random\", 4, 100],\n",
    "          [\"random\", 2, 16],\n",
    "          [\"random\", 4, 4],\n",
    "          [\"best\", 8, 4]]\n",
    "\n",
    "for i in range(len(params)):\n",
    "    clf = tree.DecisionTreeClassifier(splitter=params[i][0], max_depth=params[i][1], min_samples_leaf=params[i][2])\n",
    "    clf = clf.fit(train_examples, train_labels)\n",
    "\n",
    "    plt.figure(figsize=(50,20))\n",
    "    tree.plot_tree(clf,feature_names= tuple(features),class_names= (prediction, \"NO_\" + prediction ),filled=True)\n",
    "    title = \"splitter=\" + str(params[i][0]) + \", max_depth=\" + str(params[i][1]) + \", min_samples_leaf=\" + str(params[i][2])\n",
    "    plt.title(title, loc=\"center\", fontdict={'fontsize': 40, 'fontweight': 'bold'})\n",
    "    plt.show()"
   ]
  },
  {
   "cell_type": "markdown",
   "metadata": {},
   "source": [
    "**Propose an evaluation in terms of training and testing accuracies using $5$-cross validation on two decision trees that have different typologies**"
   ]
  },
  {
   "cell_type": "code",
   "execution_count": 6,
   "metadata": {},
   "outputs": [
    {
     "data": {
      "text/html": [
       "<div>\n",
       "<style scoped>\n",
       "    .dataframe tbody tr th:only-of-type {\n",
       "        vertical-align: middle;\n",
       "    }\n",
       "\n",
       "    .dataframe tbody tr th {\n",
       "        vertical-align: top;\n",
       "    }\n",
       "\n",
       "    .dataframe thead th {\n",
       "        text-align: right;\n",
       "    }\n",
       "</style>\n",
       "<table border=\"1\" class=\"dataframe\">\n",
       "  <thead>\n",
       "    <tr style=\"text-align: right;\">\n",
       "      <th></th>\n",
       "      <th>splitter</th>\n",
       "      <th>max_depth</th>\n",
       "      <th>min_samples_leaf</th>\n",
       "      <th>training accuracy</th>\n",
       "      <th>testing accuracy</th>\n",
       "    </tr>\n",
       "  </thead>\n",
       "  <tbody>\n",
       "    <tr>\n",
       "      <th>0</th>\n",
       "      <td>best</td>\n",
       "      <td>2</td>\n",
       "      <td>50</td>\n",
       "      <td>0.635834</td>\n",
       "      <td>0.630191</td>\n",
       "    </tr>\n",
       "    <tr>\n",
       "      <th>1</th>\n",
       "      <td>random</td>\n",
       "      <td>4</td>\n",
       "      <td>100</td>\n",
       "      <td>0.668216</td>\n",
       "      <td>0.659586</td>\n",
       "    </tr>\n",
       "  </tbody>\n",
       "</table>\n",
       "</div>"
      ],
      "text/plain": [
       "  splitter  max_depth  min_samples_leaf  training accuracy  testing accuracy\n",
       "0     best          2                50           0.635834          0.630191\n",
       "1   random          4               100           0.668216          0.659586"
      ]
     },
     "execution_count": 6,
     "metadata": {},
     "output_type": "execute_result"
    }
   ],
   "source": [
    "results = []\n",
    "for i in (0,2):\n",
    "    clf = tree.DecisionTreeClassifier(splitter=params[i][0], max_depth=params[i][1], min_samples_leaf=params[i][2])\n",
    "    score = model_selection.cross_validate(clf, train_examples, train_labels, cv=5, return_train_score=True)\n",
    "    results.append({'splitter': params[i][0],\n",
    "                    'max_depth': params[i][1],\n",
    "                    'min_samples_leaf': params[i][2],\n",
    "                    'training accuracy': score['train_score'].mean(),\n",
    "                    'testing accuracy': score['test_score'].mean()})\n",
    "table = pd.DataFrame.from_dict(results)\n",
    "table"
   ]
  },
  {
   "cell_type": "markdown",
   "metadata": {},
   "source": [
    "**Propose an experimental study that shows the transition phase from underfitting to overfitting**"
   ]
  },
  {
   "cell_type": "markdown",
   "metadata": {},
   "source": [
    "We are going to show the transition from underfitting to overfitting by calcuating the train and test accuracy for various `max_depth` and `min_samples_leaf` values and showing them in graphs."
   ]
  },
  {
   "cell_type": "markdown",
   "metadata": {},
   "source": [
    "Making `max_depth` vary: "
   ]
  },
  {
   "cell_type": "code",
   "execution_count": 8,
   "metadata": {},
   "outputs": [
    {
     "data": {
      "image/png": "[encoded data removed]",
      "text/plain": [
       "<Figure size 432x288 with 1 Axes>"
      ]
     },
     "metadata": {
      "needs_background": "light"
     },
     "output_type": "display_data"
    }
   ],
   "source": [
    "depth_range = np.arange(1, 15, 1)\n",
    "testAccuracy = []\n",
    "trainAccuracy = []\n",
    "for i in depth_range:\n",
    "    clf = tree.DecisionTreeClassifier(max_depth=i)\n",
    "    score = model_selection.cross_validate(clf, train_examples, train_labels, cv=5, return_train_score=True)\n",
    "    testAccuracy.append(score['test_score'].mean())\n",
    "    trainAccuracy.append(score['train_score'].mean())\n",
    "\n",
    "plt.figure(0)\n",
    "plt.plot(depth_range, testAccuracy, c=\"g\", label=\"Test accuracy\")\n",
    "plt.plot(depth_range, trainAccuracy, c=\"b\", label=\"Train accuracy\")\n",
    "plt.xlabel(\"max_depth\")\n",
    "plt.ylabel(\"accuracies\")\n",
    "plt.legend(loc=\"upper left\")\n",
    "plt.title(\"Train and test acruracies depending on max_depth\")\n",
    "plt.show()"
   ]
  },
  {
   "cell_type": "markdown",
   "metadata": {},
   "source": [
    "On the graph above, we can see **underfitting** for `max_depth` values form 1 to 4. Indeed, accuracies for training and testing are very similar and train accuracy is lower than it could be.\n",
    "Then with a `max_depth` between 4 and 9, the training accuracy keeps improving but test accuracy remain stable, before decreasing after 9.\n",
    "That test accuracy decrease while train accuracy is still increasing is a sign of **overfitting**.\n",
    "Based on this graph, we could say that a `max_depth` of 9 is most optimal in this situation.\n"
   ]
  },
  {
   "cell_type": "markdown",
   "metadata": {},
   "source": [
    "Making `min_samples_leaf` vary: "
   ]
  },
  {
   "cell_type": "code",
   "execution_count": 12,
   "metadata": {},
   "outputs": [
    {
     "data": {
      "image/png": "[encoded data removed]",
      "text/plain": [
       "<Figure size 432x288 with 1 Axes>"
      ]
     },
     "metadata": {
      "needs_background": "light"
     },
     "output_type": "display_data"
    }
   ],
   "source": [
    "samples_leaf_range = np.arange(1, 500, 1)\n",
    "testAccuracy = []\n",
    "trainAccuracy = []\n",
    "for i in samples_leaf_range:\n",
    "    clf = tree.DecisionTreeClassifier(min_samples_leaf=i)\n",
    "    score = model_selection.cross_validate(clf, train_examples, train_labels, cv=5, return_train_score=True)\n",
    "    testAccuracy.append(score['test_score'].mean())\n",
    "    trainAccuracy.append(score['train_score'].mean())\n",
    "\n",
    "plt.figure(0)\n",
    "plt.plot(samples_leaf_range, testAccuracy, c=\"g\", label=\"Test accuracy\")\n",
    "plt.plot(samples_leaf_range, trainAccuracy, c=\"b\", label=\"Train accuracy\")\n",
    "plt.xlabel(\"min_samples_leaf\")\n",
    "plt.ylabel(\"accuracies\")\n",
    "plt.legend(loc=\"upper right\")\n",
    "plt.title(\"Train and test acruracies depending on min_samples_leaf\")\n",
    "plt.show()"
   ]
  },
  {
   "cell_type": "markdown",
   "metadata": {},
   "source": [
    "At the beginning we can see **overfitting** with the training accuracy being substentially higher than the testing accuracy.\n",
    "Then the two accuracies decrease until they end up being almost the same giving a sign of **underfitting**.\n",
    "The good fit seems to be around 280 or 270."
   ]
  },
  {
   "cell_type": "markdown",
   "metadata": {},
   "source": [
    "**Construct the confusion matrix on a particular good configuration (after explaining your choice)**"
   ]
  },
  {
   "cell_type": "markdown",
   "metadata": {},
   "source": [
    "As mentioned previously, given the previous graphs, a `max_depth` of 9 and a `min_samples_leaf` of 280 look like a good fit. They seem to avoid overfitting and underfitting."
   ]
  },
  {
   "cell_type": "code",
   "execution_count": 15,
   "metadata": {},
   "outputs": [
    {
     "data": {
      "image/png": "[encoded data removed]",
      "text/plain": [
       "<Figure size 432x288 with 2 Axes>"
      ]
     },
     "metadata": {
      "needs_background": "light"
     },
     "output_type": "display_data"
    }
   ],
   "source": [
    "max_depth = 9\n",
    "min_samples_leaf = 280\n",
    "(x_train, x_test, y_train, y_test) = model_selection.train_test_split(train_examples, train_labels, test_size=0.2, random_state=44)\n",
    "clf = tree.DecisionTreeClassifier(max_depth=max_depth, min_samples_leaf=min_samples_leaf)\n",
    "clf = clf.fit(x_train, y_train)\n",
    "y_pred = clf.predict(x_test)\n",
    "\n",
    "ConfusionMatrixDisplay.from_predictions(y_test, y_pred)\n",
    "plt.show()"
   ]
  },
  {
   "cell_type": "markdown",
   "metadata": {},
   "source": [
    "We can see that a good majority of exmaples are classified properly. But as we saw in the graphs, the accuracy of the model is around 65% so that explains the number of false positives and false negatives"
   ]
  },
  {
   "cell_type": "markdown",
   "metadata": {},
   "source": [
    "**Provide an evaluation of the fairness of the model based on the False Positive Rate**"
   ]
  },
  {
   "cell_type": "code",
   "execution_count": 15,
   "metadata": {},
   "outputs": [],
   "source": [
    "x_caucasian = []\n",
    "y_caucasian = []\n",
    "x_african_american = []\n",
    "y_african_american = []\n",
    "for i in range(len(train_examples)):\n",
    "    if train_examples[i][0]==0:\n",
    "        x_caucasian.append(train_examples[i])\n",
    "        y_caucasian.append(train_labels[i])\n",
    "    else:\n",
    "        x_african_american.append(train_examples[i])\n",
    "        y_african_american.append(train_labels[i])"
   ]
  },
  {
   "cell_type": "markdown",
   "metadata": {},
   "source": [
    "Caucasian people"
   ]
  },
  {
   "cell_type": "code",
   "execution_count": 16,
   "metadata": {},
   "outputs": [
    {
     "data": {
      "image/png": "[encoded data removed]",
      "text/plain": [
       "<Figure size 432x288 with 2 Axes>"
      ]
     },
     "metadata": {
      "needs_background": "light"
     },
     "output_type": "display_data"
    }
   ],
   "source": [
    "max_depth = 9\n",
    "min_samples_leaf = 280\n",
    "(x_train, x_test, y_train, y_test) = model_selection.train_test_split(x_caucasian, y_caucasian, test_size=0.2, random_state=44)\n",
    "clf = tree.DecisionTreeClassifier(max_depth=max_depth, min_samples_leaf=min_samples_leaf)\n",
    "clf = clf.fit(x_caucasian, y_caucasian)\n",
    "y_pred = clf.predict(x_test)\n",
    "\n",
    "ConfusionMatrixDisplay.from_predictions(y_test, y_pred)\n",
    "plt.show()"
   ]
  },
  {
   "cell_type": "markdown",
   "metadata": {},
   "source": [
    "African American people"
   ]
  },
  {
   "cell_type": "code",
   "execution_count": 17,
   "metadata": {},
   "outputs": [
    {
     "data": {
      "image/png": "[encoded data removed]",
      "text/plain": [
       "<Figure size 432x288 with 2 Axes>"
      ]
     },
     "metadata": {
      "needs_background": "light"
     },
     "output_type": "display_data"
    }
   ],
   "source": [
    "max_depth = 9\n",
    "min_samples_leaf = 280\n",
    "(x_train, x_test, y_train, y_test) = model_selection.train_test_split(x_african_american, y_african_american, test_size=0.2, random_state=44)\n",
    "clf = tree.DecisionTreeClassifier(max_depth=max_depth, min_samples_leaf=min_samples_leaf)\n",
    "clf = clf.fit(x_african_american, y_african_american)\n",
    "y_pred = clf.predict(x_test)\n",
    "\n",
    "ConfusionMatrixDisplay.from_predictions(y_test, y_pred)\n",
    "plt.show()"
   ]
  },
  {
   "cell_type": "markdown",
   "metadata": {},
   "source": [
    "Given the confusion matrix for Caucasian and African American people, we can see from the false positive rate (in the upper right corner) that the model is not fair.\n",
    "With this model, **African American people are 5 times more likely to be wrongly classified as future recidivists than Caucasian people**."
   ]
  }
 ],
 "metadata": {
  "interpreter": {
   "hash": "fd4bb8e2fd8640ca0fd7188ae30c8061e33e754f2747adb41f02c39a8e69d6d5"
  },
  "kernelspec": {
   "display_name": "Python 3.10.4 64-bit",
   "language": "python",
   "name": "python3"
  },
  "language_info": {
   "codemirror_mode": {
    "name": "ipython",
    "version": 3
   },
   "file_extension": ".py",
   "mimetype": "text/x-python",
   "name": "python",
   "nbconvert_exporter": "python",
   "pygments_lexer": "ipython3",
   "version": "3.10.4"
  }
 },
 "nbformat": 4,
 "nbformat_minor": 4
}
